{
 "cells": [
  {
   "cell_type": "code",
   "execution_count": null,
   "metadata": {},
   "outputs": [],
   "source": [
    "import pandas as p\n",
    "arr2 = {'name':['张三','李四','王五'],\n",
    "        'age':[22,19,30],\n",
    "        'gender':['man','women','']}\n",
    "print(p.DataFrame(arr2)) "
   ]
  },
  {
   "cell_type": "markdown",
   "metadata": {},
   "source": []
  },
  {
   "cell_type": "code",
   "execution_count": null,
   "metadata": {},
   "outputs": [],
   "source": [
    "import numpy as np\n",
    "print(np.arange(1,10,2))\n",
    "b = np.arange(10)\n",
    "print(b)"
   ]
  },
  {
   "cell_type": "code",
   "execution_count": null,
   "metadata": {},
   "outputs": [],
   "source": []
  },
  {
   "cell_type": "code",
   "execution_count": null,
   "metadata": {},
   "outputs": [],
   "source": [
    "import turtle\n",
    "turtle.goto(100,0)\n",
    "for i in range(20):\n",
    "    turtle.left(80)\n",
    "    turtle.fd(100)\n",
    "    turtle.left(135)\n",
    "    turtle.forward(105)"
   ]
  },
  {
   "cell_type": "code",
   "execution_count": 113,
   "metadata": {},
   "outputs": [
    {
     "data": {
      "text/plain": [
       "(array([2506., 2485., 2502., 2507.]),\n",
       " array([1.23739493e-04, 2.50081748e-01, 5.00039756e-01, 7.49997764e-01,\n",
       "        9.99955772e-01]),\n",
       " <BarContainer object of 4 artists>)"
      ]
     },
     "execution_count": 113,
     "metadata": {},
     "output_type": "execute_result"
    },
    {
     "data": {
      "image/png": "[encoded data removed]",
      "text/plain": [
       "<Figure size 640x480 with 1 Axes>"
      ]
     },
     "metadata": {},
     "output_type": "display_data"
    }
   ],
   "source": [
    "import numpy as np\n",
    "import matplotlib.pyplot as plt\n",
    "data = np.random.random(10000)\n",
    "plt.hist(data,bins=4)"
   ]
  },
  {
   "cell_type": "code",
   "execution_count": 176,
   "metadata": {},
   "outputs": [
    {
     "name": "stdout",
     "output_type": "stream",
     "text": [
      "fl\n"
     ]
    }
   ],
   "source": [
    "# 第一题获取字符串连续相同的前缀，没员则返回空\n",
    "def longest_pre_words(words):\n",
    "    if not words:\n",
    "        return ''\n",
    "    s1 = min(words) # flight\n",
    "    s2 = max(words) # flower\n",
    "    for i,j in enumerate(s1):\n",
    "        if j != s2[i]: #求出不相同的部分\n",
    "            return s2[:i] # 相同部分fl\n",
    "    return s1\n",
    "words = ['flower','flow','flight']\n",
    "print(longest_pre_words(words))"
   ]
  },
  {
   "cell_type": "code",
   "execution_count": 177,
   "metadata": {},
   "outputs": [
    {
     "name": "stdout",
     "output_type": "stream",
     "text": [
      "min:flight\n",
      "max:flower\n",
      "['flower', 'flow']\n",
      "['flower', 'flow']\n",
      "['flower', 'flow']\n"
     ]
    }
   ],
   "source": [
    "words = ['flower','flow','flight']\n",
    "print('min:%s'%min(words))\n",
    "print('max:%s'%max(words))\n",
    "for i, j in enumerate(words):\n",
    "    print(words[:-1])"
   ]
  },
  {
   "cell_type": "code",
   "execution_count": 79,
   "metadata": {},
   "outputs": [
    {
     "name": "stdout",
     "output_type": "stream",
     "text": [
      "4\n"
     ]
    },
    {
     "data": {
      "text/plain": [
       "\"\\nwords = ['fly','me', 'to', 'the','moon']\\nmax_length2 = max(len(word) for word in words)\\nprint(max_length2)\\n\""
      ]
     },
     "execution_count": 79,
     "metadata": {},
     "output_type": "execute_result"
    }
   ],
   "source": [
    "# 第二题 打印字符串中最长的单词，打印4\n",
    "words = ['fly','me', 'to', 'the','moon']\n",
    "\n",
    "max_length = 0\n",
    "for word in words:\n",
    "    if len(word) > max_length:\n",
    "        max_length = len(word)\n",
    "print(max_length)\n",
    "\n",
    "#简单版解法\n",
    "'''\n",
    "words = ['fly','me', 'to', 'the','moon']\n",
    "max_length2 = max(len(word) for word in words)\n",
    "print(max_length2)\n",
    "'''"
   ]
  }
 ],
 "metadata": {
  "kernelspec": {
   "display_name": "Python 3",
   "language": "python",
   "name": "python3"
  },
  "language_info": {
   "codemirror_mode": {
    "name": "ipython",
    "version": 3
   },
   "file_extension": ".py",
   "mimetype": "text/x-python",
   "name": "python",
   "nbconvert_exporter": "python",
   "pygments_lexer": "ipython3",
   "version": "3.9.13"
  }
 },
 "nbformat": 4,
 "nbformat_minor": 2
}
